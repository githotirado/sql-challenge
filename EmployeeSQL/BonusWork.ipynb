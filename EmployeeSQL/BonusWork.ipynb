{
 "cells": [
  {
   "cell_type": "markdown",
   "id": "1c958136-405f-444a-b1a4-74248468430f",
   "metadata": {},
   "source": [
    "Bonus for SQL-challenge in Bootcamp class"
   ]
  },
  {
   "cell_type": "code",
   "execution_count": 1,
   "id": "bda0bda6-8ffa-4ef2-9e7c-859041fe8481",
   "metadata": {},
   "outputs": [],
   "source": [
    "%matplotlib inline\n",
    "import pandas as pd\n",
    "import matplotlib.pyplot as plt\n",
    "from sqlalchemy import create_engine"
   ]
  },
  {
   "cell_type": "code",
   "execution_count": 2,
   "id": "7df53dc7-041d-4a56-aa26-64ce99692d36",
   "metadata": {},
   "outputs": [],
   "source": [
    "# Define the engine string to be used for connecting to EmployeeSQL\n",
    "engine = create_engine('postgresql://postgres:B00tC@mp@localhost:5432/EmployeeSQL')\n",
    "# connection = engine.connect()"
   ]
  },
  {
   "cell_type": "code",
   "execution_count": 3,
   "id": "9d8f5766-1ae0-417f-a8e7-fe178eeef5c2",
   "metadata": {},
   "outputs": [],
   "source": [
    "# Read each table from EmployeeSQL database into a dataframe\n",
    "departments_df = pd.read_sql_query('select * from departments',con=engine)\n",
    "employees_df   = pd.read_sql_query('select * from employees',con=engine)\n",
    "titles_df      = pd.read_sql_query('select * from titles',con=engine)\n",
    "salaries_df    = pd.read_sql_query('select * from salaries',con=engine)\n",
    "dept_emp_df    = pd.read_sql_query('select * from dept_emp',con=engine)\n",
    "dept_manager_df= pd.read_sql_query('select * from dept_manager',con=engine)"
   ]
  },
  {
   "cell_type": "code",
   "execution_count": 49,
   "id": "bdb8178f-0709-4326-a8ad-b8adc28e7ece",
   "metadata": {},
   "outputs": [],
   "source": [
    "salaries_df    = pd.read_sql_query('select * from salaries',con=engine)"
   ]
  },
  {
   "cell_type": "code",
   "execution_count": 50,
   "id": "04543eda-13e1-4fb9-a36a-fcf2cc672d96",
   "metadata": {},
   "outputs": [
    {
     "data": {
      "text/plain": [
       "emp_no    int64\n",
       "salary    int64\n",
       "dtype: object"
      ]
     },
     "execution_count": 50,
     "metadata": {},
     "output_type": "execute_result"
    }
   ],
   "source": [
    "# Replace the , and $ and .00 from 'salary' column (defined as 'money' in Postgres), convert to integer\n",
    "salaries_df['salary'] = salaries_df['salary'].replace({'\\$': '', ',': '', '\\.00': ''}, regex=True).astype(\"int64\")\n",
    "salaries_df.dtypes"
   ]
  },
  {
   "cell_type": "code",
   "execution_count": 53,
   "id": "e7d8de5b-e8b1-4e38-81a6-f846fad9fabd",
   "metadata": {},
   "outputs": [
    {
     "data": {
      "image/png": "[encoded data removed]",
      "text/plain": [
       "<Figure size 432x288 with 1 Axes>"
      ]
     },
     "metadata": {
      "needs_background": "light"
     },
     "output_type": "display_data"
    }
   ],
   "source": [
    "# Plot histogram of salary ranges\n",
    "plt.hist(salaries_df[\"salary\"], bins=20)\n",
    "plt.title(\"Histogram of Employee Salary Ranges\")\n",
    "plt.xlabel(\"Salary bins\")\n",
    "plt.ylabel(\"Count of employees\")\n",
    "plt.grid(axis=\"y\")\n",
    "plt.show()"
   ]
  },
  {
   "cell_type": "code",
   "execution_count": null,
   "id": "5e45b205-d449-440f-805e-1e1959a53f37",
   "metadata": {},
   "outputs": [],
   "source": []
  }
 ],
 "metadata": {
  "kernelspec": {
   "display_name": "Python 3",
   "language": "python",
   "name": "python3"
  },
  "language_info": {
   "codemirror_mode": {
    "name": "ipython",
    "version": 3
   },
   "file_extension": ".py",
   "mimetype": "text/x-python",
   "name": "python",
   "nbconvert_exporter": "python",
   "pygments_lexer": "ipython3",
   "version": "3.8.8"
  }
 },
 "nbformat": 4,
 "nbformat_minor": 5
}
