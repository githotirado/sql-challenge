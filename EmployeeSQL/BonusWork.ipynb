{
 "cells": [
  {
   "cell_type": "markdown",
   "id": "1c958136-405f-444a-b1a4-74248468430f",
   "metadata": {},
   "source": [
    "Bonus for SQL-challenge in Bootcamp class\n",
    "\n",
    "To run this connection (and to avoid keeping a password in this notebook) remember to set your local OS\n",
    "environment DATABASE_URL variable to look like this, filling in your own db password and db name.\n",
    "Assumes your db user ID is postgres.  This assumes adding this line to your .zshrc in Mac environments:\n",
    "\n",
    "    export DATABASE_URL=\"postgresql://<your db username>:<your db password>@localhost:5432/<your db>\""
   ]
  },
  {
   "cell_type": "code",
   "execution_count": 2,
   "id": "bda0bda6-8ffa-4ef2-9e7c-859041fe8481",
   "metadata": {},
   "outputs": [],
   "source": [
    "%matplotlib inline\n",
    "import pandas as pd\n",
    "import matplotlib.pyplot as plt\n",
    "from sqlalchemy import create_engine\n",
    "import os"
   ]
  },
  {
   "cell_type": "code",
   "execution_count": 3,
   "id": "7df53dc7-041d-4a56-aa26-64ce99692d36",
   "metadata": {},
   "outputs": [],
   "source": [
    "# Define the engine string to be used for connecting to your EmployeeSQL using the environment\n",
    "#   variable DATABASE_URL\n",
    "database_url = os.environ.get('DATABASE_URL', 'postgresql://localhost:5432/EmployeeSQL')\n",
    "# engine = create_engine('postgresql://localhost:5432/EmployeeSQL')\n",
    "engine = create_engine(database_url)\n",
    "# connection = engine.connect()"
   ]
  },
  {
   "cell_type": "code",
   "execution_count": 4,
   "id": "9d8f5766-1ae0-417f-a8e7-fe178eeef5c2",
   "metadata": {},
   "outputs": [],
   "source": [
    "# Read each table from EmployeeSQL database into a dataframe\n",
    "departments_df = pd.read_sql_query('select * from departments',con=engine)\n",
    "employees_df   = pd.read_sql_query('select * from employees',con=engine)\n",
    "titles_df      = pd.read_sql_query('select * from titles',con=engine)\n",
    "salaries_df    = pd.read_sql_query('select * from salaries',con=engine)\n",
    "dept_emp_df    = pd.read_sql_query('select * from dept_emp',con=engine)\n",
    "dept_manager_df= pd.read_sql_query('select * from dept_manager',con=engine)"
   ]
  },
  {
   "cell_type": "code",
   "execution_count": 5,
   "id": "04543eda-13e1-4fb9-a36a-fcf2cc672d96",
   "metadata": {},
   "outputs": [
    {
     "data": {
      "text/plain": [
       "emp_no    int64\n",
       "salary    int64\n",
       "dtype: object"
      ]
     },
     "execution_count": 5,
     "metadata": {},
     "output_type": "execute_result"
    }
   ],
   "source": [
    "# Replace the , and $ and .00 from 'salary' column (defined as 'money' in Postgres), convert to integer\n",
    "salaries_df['salary'] = salaries_df['salary'].replace({'\\$': '', ',': '', '\\.00': ''}, regex=True).astype(\"int64\")\n",
    "salaries_df.dtypes"
   ]
  },
  {
   "cell_type": "code",
   "execution_count": 6,
   "id": "e7d8de5b-e8b1-4e38-81a6-f846fad9fabd",
   "metadata": {},
   "outputs": [
    {
     "data": {
      "image/png": "[encoded data removed]",
      "text/plain": [
       "<Figure size 432x288 with 1 Axes>"
      ]
     },
     "metadata": {
      "needs_background": "light"
     },
     "output_type": "display_data"
    }
   ],
   "source": [
    "# Plot histogram of salary ranges\n",
    "plt.hist(salaries_df[\"salary\"], bins=20)\n",
    "plt.title(\"Histogram of Employee Salary Ranges\")\n",
    "plt.xlabel(\"Salary Bins\")\n",
    "plt.ylabel(\"Count of Employees\")\n",
    "plt.grid(axis=\"y\")\n",
    "plt.savefig(\"Images/SalaryHistogram.png\")\n",
    "plt.show()"
   ]
  },
  {
   "cell_type": "code",
   "execution_count": 7,
   "id": "5e45b205-d449-440f-805e-1e1959a53f37",
   "metadata": {},
   "outputs": [
    {
     "data": {
      "text/html": [
       "<div>\n",
       "<style scoped>\n",
       "    .dataframe tbody tr th:only-of-type {\n",
       "        vertical-align: middle;\n",
       "    }\n",
       "\n",
       "    .dataframe tbody tr th {\n",
       "        vertical-align: top;\n",
       "    }\n",
       "\n",
       "    .dataframe thead th {\n",
       "        text-align: right;\n",
       "    }\n",
       "</style>\n",
       "<table border=\"1\" class=\"dataframe\">\n",
       "  <thead>\n",
       "    <tr style=\"text-align: right;\">\n",
       "      <th></th>\n",
       "      <th>salary</th>\n",
       "    </tr>\n",
       "    <tr>\n",
       "      <th>title</th>\n",
       "      <th></th>\n",
       "    </tr>\n",
       "  </thead>\n",
       "  <tbody>\n",
       "    <tr>\n",
       "      <th>Assistant Engineer</th>\n",
       "      <td>48564.434447</td>\n",
       "    </tr>\n",
       "    <tr>\n",
       "      <th>Engineer</th>\n",
       "      <td>48535.336511</td>\n",
       "    </tr>\n",
       "    <tr>\n",
       "      <th>Manager</th>\n",
       "      <td>51531.041667</td>\n",
       "    </tr>\n",
       "    <tr>\n",
       "      <th>Senior Engineer</th>\n",
       "      <td>48506.799871</td>\n",
       "    </tr>\n",
       "    <tr>\n",
       "      <th>Senior Staff</th>\n",
       "      <td>58550.172704</td>\n",
       "    </tr>\n",
       "  </tbody>\n",
       "</table>\n",
       "</div>"
      ],
      "text/plain": [
       "                          salary\n",
       "title                           \n",
       "Assistant Engineer  48564.434447\n",
       "Engineer            48535.336511\n",
       "Manager             51531.041667\n",
       "Senior Engineer     48506.799871\n",
       "Senior Staff        58550.172704"
      ]
     },
     "execution_count": 7,
     "metadata": {},
     "output_type": "execute_result"
    }
   ],
   "source": [
    "# join 3 dataframes to get relationship between salary and title, group by title and get average salary\n",
    "salary_title_df = salaries_df.merge(employees_df, on=\"emp_no\").merge(titles_df, left_on=\"emp_title_id\", right_on=\"title_id\")\n",
    "avg_salary_df = salary_title_df[[\"title\", \"salary\"]].groupby(by=\"title\").mean()\n",
    "avg_salary_df.head()"
   ]
  },
  {
   "cell_type": "code",
   "execution_count": 8,
   "id": "a5852f7d-08ae-4b53-b283-a817f5a34c4d",
   "metadata": {},
   "outputs": [],
   "source": [
    "# Undo the indexing of title so we can use it as an x column in plotting\n",
    "avg_salary_df = avg_salary_df.reset_index()"
   ]
  },
  {
   "cell_type": "code",
   "execution_count": 9,
   "id": "d769c805-92de-4e76-8b54-2fdffc4513b9",
   "metadata": {},
   "outputs": [
    {
     "data": {
      "image/png": "[encoded data removed]",
      "text/plain": [
       "<Figure size 576x288 with 1 Axes>"
      ]
     },
     "metadata": {
      "needs_background": "light"
     },
     "output_type": "display_data"
    }
   ],
   "source": [
    "# Create a bar chart of average salary by title\n",
    "avg_salary_df.plot.bar(x=\"title\", y=\"salary\", figsize=(8,4))\n",
    "plt.xlabel(\"Employee Title\")\n",
    "plt.ylabel(\"Average Salary\")\n",
    "plt.savefig(\"Images/AvgSalaryByTitle.png\")\n",
    "plt.show()"
   ]
  },
  {
   "cell_type": "code",
   "execution_count": null,
   "id": "9000639d-5c89-4b4a-a7b8-4e531d51d125",
   "metadata": {},
   "outputs": [],
   "source": []
  }
 ],
 "metadata": {
  "kernelspec": {
   "display_name": "Python 3",
   "language": "python",
   "name": "python3"
  },
  "language_info": {
   "codemirror_mode": {
    "name": "ipython",
    "version": 3
   },
   "file_extension": ".py",
   "mimetype": "text/x-python",
   "name": "python",
   "nbconvert_exporter": "python",
   "pygments_lexer": "ipython3",
   "version": "3.8.8"
  }
 },
 "nbformat": 4,
 "nbformat_minor": 5
}
